{
  "nbformat": 4,
  "nbformat_minor": 0,
  "metadata": {
    "colab": {
      "provenance": [],
      "authorship_tag": "ABX9TyP5VAIff7Zbi7IjsLBLoeNI",
      "include_colab_link": true
    },
    "kernelspec": {
      "name": "python3",
      "display_name": "Python 3"
    },
    "language_info": {
      "name": "python"
    }
  },
  "cells": [
    {
      "cell_type": "markdown",
      "metadata": {
        "id": "view-in-github",
        "colab_type": "text"
      },
      "source": [
        "<a href=\"https://colab.research.google.com/github/PimPim939/qu-n-l-nh-n-s-1/blob/main/GD_LAB12.ipynb\" target=\"_parent\"><img src=\"https://colab.research.google.com/assets/colab-badge.svg\" alt=\"Open In Colab\"/></a>"
      ]
    },
    {
      "cell_type": "markdown",
      "source": [
        "Huỳnh Hà Nhật Tiến - 23150356 - ca 2 thứ 4 - 2/7/2025"
      ],
      "metadata": {
        "id": "mBjAxPTpEY6o"
      }
    },
    {
      "cell_type": "code",
      "source": [],
      "metadata": {
        "id": "9KPjBVvNGOlq"
      },
      "execution_count": null,
      "outputs": []
    },
    {
      "cell_type": "code",
      "source": [
        "# 1. Khởi tạo Series tuoi chứa các giá trị tuổi\n",
        "import pandas as pd\n",
        "\n",
        "tuoi = pd.Series([20, 25, 30, 35])\n",
        "print(\"Series tuoi:\")\n",
        "print(tuoi)\n",
        "\n",
        "\n"
      ],
      "metadata": {
        "colab": {
          "base_uri": "https://localhost:8080/"
        },
        "id": "zsb8YwCWEODx",
        "outputId": "96e52201-7aa6-4372-b88a-638151085e78"
      },
      "execution_count": 9,
      "outputs": [
        {
          "output_type": "stream",
          "name": "stdout",
          "text": [
            "Series tuoi:\n",
            "0    20\n",
            "1    25\n",
            "2    30\n",
            "3    35\n",
            "dtype: int64\n"
          ]
        }
      ]
    },
    {
      "cell_type": "code",
      "source": [
        "# 2. Lấy giá trị tại chỉ mục 2\n",
        "print(\"\\nGiá trị tại chỉ mục 2:\")\n",
        "print(tuoi[2])"
      ],
      "metadata": {
        "colab": {
          "base_uri": "https://localhost:8080/"
        },
        "id": "251dx1uXG55n",
        "outputId": "4b81810b-7c84-423b-b809-e84d8f83f739"
      },
      "execution_count": 14,
      "outputs": [
        {
          "output_type": "stream",
          "name": "stdout",
          "text": [
            "\n",
            "Giá trị tại chỉ mục 2:\n",
            "30\n"
          ]
        }
      ]
    },
    {
      "cell_type": "code",
      "source": [
        "# 3. Thống kê mô tả của Series trên\n",
        "print(\"\\nThống kê mô tả:\")\n",
        "print(tuoi.describe())"
      ],
      "metadata": {
        "colab": {
          "base_uri": "https://localhost:8080/"
        },
        "id": "6NMk9RlcIJVb",
        "outputId": "fae60e01-2798-429b-8f7b-abed6d982558"
      },
      "execution_count": 15,
      "outputs": [
        {
          "output_type": "stream",
          "name": "stdout",
          "text": [
            "\n",
            "Thống kê mô tả:\n",
            "count     4.000000\n",
            "mean     27.500000\n",
            "std       6.454972\n",
            "min      20.000000\n",
            "25%      23.750000\n",
            "50%      27.500000\n",
            "75%      31.250000\n",
            "max      35.000000\n",
            "dtype: float64\n"
          ]
        }
      ]
    },
    {
      "cell_type": "code",
      "metadata": {
        "colab": {
          "base_uri": "https://localhost:8080/"
        },
        "id": "69f4dc44",
        "outputId": "37511029-c92d-44f0-b3c0-3b753fc3be8b"
      },
      "source": [
        "# 4. Cộng 5 vào mỗi phần tử trong Series\n",
        "print(\"\\nSeries sau khi cộng 5 vào mỗi phần tử:\")\n",
        "print(tuoi + 5)"
      ],
      "execution_count": 21,
      "outputs": [
        {
          "output_type": "stream",
          "name": "stdout",
          "text": [
            "\n",
            "Series sau khi cộng 5 vào mỗi phần tử:\n",
            "0    25\n",
            "1    30\n",
            "2    35\n",
            "3    40\n",
            "dtype: int64\n"
          ]
        }
      ]
    },
    {
      "cell_type": "code",
      "source": [
        "# 5. Tạo cấu trúc lưu trữ dạng DataFrame\n",
        "import pandas as pd\n",
        "\n",
        "data = {\n",
        "    'Tên': ['An', 'Hà', 'Trung', 'Dũng'],\n",
        "    'Tuổi': [20, 25, 30, 35],\n",
        "    'Thành Phố': ['Hà Nội', 'Tp HCM', 'Nha Trang', 'Huế']\n",
        "}\n",
        "df = pd.DataFrame(data)"
      ],
      "metadata": {
        "id": "GOGy0z2VJVSP"
      },
      "execution_count": 27,
      "outputs": []
    },
    {
      "cell_type": "code",
      "source": [
        "# 6. In dữ liệu trên\n",
        "print(\"Dữ liệu DataFrame:\")\n",
        "print(df)"
      ],
      "metadata": {
        "colab": {
          "base_uri": "https://localhost:8080/"
        },
        "id": "PXp-nH03JtUB",
        "outputId": "09cb6f13-7b04-4afe-c69b-72259a683e88"
      },
      "execution_count": 24,
      "outputs": [
        {
          "output_type": "stream",
          "name": "stdout",
          "text": [
            "Dữ liệu DataFrame:\n",
            "     Tên  Tuổi  Thành Phố\n",
            "0     An    20     Hà Nội\n",
            "1     Hà    25     Tp HCM\n",
            "2  Trung    30  Nha Trang\n",
            "3   Dũng    35        Huế\n"
          ]
        }
      ]
    },
    {
      "cell_type": "code",
      "source": [
        "# 7. In cột Tên\n",
        "print(\"\\nCột Tên:\")\n",
        "print(df['Tên'])"
      ],
      "metadata": {
        "colab": {
          "base_uri": "https://localhost:8080/"
        },
        "id": "5qiwu6uaKA2Z",
        "outputId": "2019530b-fa27-46b1-d9fb-d7a2eaca5d34"
      },
      "execution_count": 28,
      "outputs": [
        {
          "output_type": "stream",
          "name": "stdout",
          "text": [
            "\n",
            "Cột Tên:\n",
            "0       An\n",
            "1       Hà\n",
            "2    Trung\n",
            "3     Dũng\n",
            "Name: Tên, dtype: object\n"
          ]
        }
      ]
    },
    {
      "cell_type": "code",
      "source": [
        "# 8. Truy cập hàng thứ 2\n",
        "print(\"\\nHàng thứ 2:\")\n",
        "print(df.iloc[2])"
      ],
      "metadata": {
        "colab": {
          "base_uri": "https://localhost:8080/"
        },
        "id": "58oItOxpKUPk",
        "outputId": "f7af50c0-8063-4a6c-d014-5e92adbcfeb0"
      },
      "execution_count": 29,
      "outputs": [
        {
          "output_type": "stream",
          "name": "stdout",
          "text": [
            "\n",
            "Hàng thứ 2:\n",
            "Tên              Trung\n",
            "Tuổi                30\n",
            "Thành Phố    Nha Trang\n",
            "Name: 2, dtype: object\n"
          ]
        }
      ]
    },
    {
      "cell_type": "code",
      "source": [
        "# 9. Thêm cột Nghề nghiệp\n",
        "df['Nghề nghiệp'] = ['Kỹ sư', 'Bác sĩ', 'Giáo viên', 'Kinh doanh']\n",
        "print(\"\\nDataFrame sau khi thêm cột Nghề nghiệp:\")\n",
        "print(df)"
      ],
      "metadata": {
        "colab": {
          "base_uri": "https://localhost:8080/"
        },
        "id": "RWWPNvoNKYwj",
        "outputId": "29f7dbab-ee68-4ef0-e76f-fe373d068eee"
      },
      "execution_count": 30,
      "outputs": [
        {
          "output_type": "stream",
          "name": "stdout",
          "text": [
            "\n",
            "DataFrame sau khi thêm cột Nghề nghiệp:\n",
            "     Tên  Tuổi  Thành Phố Nghề nghiệp\n",
            "0     An    20     Hà Nội       Kỹ sư\n",
            "1     Hà    25     Tp HCM      Bác sĩ\n",
            "2  Trung    30  Nha Trang   Giáo viên\n",
            "3   Dũng    35        Huế  Kinh doanh\n"
          ]
        }
      ]
    },
    {
      "cell_type": "code",
      "source": [],
      "metadata": {
        "id": "qSg2w8nAK4vB"
      },
      "execution_count": null,
      "outputs": []
    }
  ]
}